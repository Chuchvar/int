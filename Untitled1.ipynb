{
 "cells": [
  {
   "cell_type": "markdown",
   "id": "2b962989-4b04-4def-9b93-b1550ff0675d",
   "metadata": {},
   "source": [
    "Змівши тип комірок [Ісландія](https://uk.wikipedia.org/wiki/%D0%86%D1%81%D0%BB%D0%B0%D0%BD%D0%B4%D1%96%D1%8F) можна створювати розмічений текст\n",
    "Наприклад:\n",
    "* Столиця Ісладії: \n",
    "# Рейк'явік\n",
    "## Площа 103,000 км²\n",
    "...\n",
    "###### Населення 325 671\n",
    "* ВВП **$10,26 млрд** На душу *$34 600*\n",
    "* Релігія [Церква Ісландії](https://uk.wikipedia.org/wiki/%D0%A6%D0%B5%D1%80%D0%BA%D0%B2%D0%B0_%D0%86%D1%81%D0%BB%D0%B0%D0%BD%D0%B4%D1%96%D1%97)\n",
    "* Прапор ![Picture](https://upload.wikimedia.org/wikipedia/commons/c/ce/Flag_of_Iceland.svg)\n",
    "<b>В тому числі картинку можна становити перетягуванням миші із папки в блокгот (див. нижче)<b>"
   ]
  },
  {
   "cell_type": "code",
   "execution_count": 2,
   "id": "8eb2daff-605b-45b2-aa49-713bd1dd62c2",
   "metadata": {},
   "outputs": [],
   "source": [
    "def is_prime(n):\n",
    "    if n < 2:\n",
    "        return False\n",
    "    for i in range(2, int(n**0.5) + 1):\n",
    "        if n % i == 0:\n",
    "            return False\n",
    "    return True\n",
    "\n",
    "def task_1():\n",
    "    try:\n",
    "        num = int(input(\"Введіть парне число > 2: \"))\n",
    "        if num <= 2 or num % 2 != 0:\n",
    "            print(\"Число повинно бути парним і більше за 2.\")\n",
    "            return\n",
    "\n",
    "        for i in range(2, num // 2 + 1):\n",
    "            if is_prime(i) and is_prime(num - i):\n",
    "                print(f\"Число {num} можна представити як {i}+{num - i}\")\n",
    "                return\n",
    "\n",
    "        print(f\"Не вдалося знайти два простих числа, сума яких дорівнює {num}\")\n",
    "    except ValueError:\n",
    "        print(\"Будь ласка, введіть коректне ціле число.\")"
   ]
  },
  {
   "cell_type": "code",
   "execution_count": 3,
   "id": "05505c2c-890d-440e-ac1a-2963f82cff18",
   "metadata": {},
   "outputs": [
    {
     "name": "stdin",
     "output_type": "stream",
     "text": [
      "Введіть парне число > 2:  10\n"
     ]
    },
    {
     "name": "stdout",
     "output_type": "stream",
     "text": [
      "Число 10 можна представити як 3+7\n"
     ]
    }
   ],
   "source": [
    "task_1()"
   ]
  },
  {
   "cell_type": "code",
   "execution_count": null,
   "id": "ef59bcb1-f6fc-4e8a-a5ca-e57df43b0184",
   "metadata": {},
   "outputs": [],
   "source": []
  }
 ],
 "metadata": {
  "kernelspec": {
   "display_name": "Python 3 (ipykernel)",
   "language": "python",
   "name": "python3"
  },
  "language_info": {
   "codemirror_mode": {
    "name": "ipython",
    "version": 3
   },
   "file_extension": ".py",
   "mimetype": "text/x-python",
   "name": "python",
   "nbconvert_exporter": "python",
   "pygments_lexer": "ipython3",
   "version": "3.12.9"
  }
 },
 "nbformat": 4,
 "nbformat_minor": 5
}
